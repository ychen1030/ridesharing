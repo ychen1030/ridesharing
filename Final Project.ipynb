{
 "cells": [
  {
   "cell_type": "code",
   "execution_count": 3,
   "metadata": {},
   "outputs": [],
   "source": [
    "import networkx as nx\n",
    "import pandas as pd\n",
    "import numpy as np\n",
    "from math import sin,cos,sqrt,atan2\n",
    "import pickle\n",
    "import matplotlib.pyplot as plt\n",
    "%matplotlib inline  \n",
    "#import utm\n",
    "import geopy.distance\n",
    "from datetime import datetime"
   ]
  },
  {
   "cell_type": "markdown",
   "metadata": {},
   "source": [
    "# Network data and demand data"
   ]
  },
  {
   "cell_type": "code",
   "execution_count": 17,
   "metadata": {},
   "outputs": [],
   "source": [
    "G = pickle.load( open( \"Manhattan_network.p\", \"rb\" ) )"
   ]
  },
  {
   "cell_type": "code",
   "execution_count": 2,
   "metadata": {
    "scrolled": true
   },
   "outputs": [],
   "source": [
    "dic = dict(nx.all_pairs_dijkstra_path_length(G,weight = 'length'))\n"
   ]
  },
  {
   "cell_type": "code",
   "execution_count": 4,
   "metadata": {},
   "outputs": [],
   "source": [
    "#pickle.dump( dic, open( \"dic.p\", \"wb\" ))\n",
    "#pickle.dump( demand_station, open( \"demand_station_30s.p\", \"wb\" ))"
   ]
  },
  {
   "cell_type": "code",
   "execution_count": 6,
   "metadata": {},
   "outputs": [],
   "source": [
    "#data = pd.read_csv(\"/Users/xiaotong/Desktop/CEE 6620/yellow_tripdata_2015-01.csv\")\n",
    "data = pd.read_csv(\"/Users/barryfan/Downloads/yellow_tripdata_2015-01.csv\")"
   ]
  },
  {
   "cell_type": "code",
   "execution_count": 8,
   "metadata": {},
   "outputs": [],
   "source": [
    "data_1 = data[['tpep_pickup_datetime','pickup_longitude','pickup_latitude','dropoff_longitude','dropoff_latitude']]"
   ]
  },
  {
   "cell_type": "code",
   "execution_count": 10,
   "metadata": {},
   "outputs": [],
   "source": [
    "sorted_data = data_1.sort_values(['tpep_pickup_datetime'], ascending=[True])"
   ]
  },
  {
   "cell_type": "code",
   "execution_count": 284,
   "metadata": {},
   "outputs": [],
   "source": [
    "drop_list = []\n",
    "for i,demand in enumerate(sorted_data.values):\n",
    "    if demand[0] < '2015-01-15 08:00:00' or demand[0] >= '2015-01-15 08:00:30':\n",
    "        drop_list.append(i)\n",
    "demand = np.delete(sorted_data.values, drop_list, axis = 0)"
   ]
  },
  {
   "cell_type": "markdown",
   "metadata": {},
   "source": [
    "# Assign demand to road stations"
   ]
  },
  {
   "cell_type": "code",
   "execution_count": 18,
   "metadata": {},
   "outputs": [],
   "source": [
    "station_id = {}\n",
    "for node in G.nodes:\n",
    "    longitude = G.nodes[node]['x']\n",
    "    latitude = G.nodes[node]['y']\n",
    "    node_id = G.node[node]['osmid']\n",
    "    station_id[node_id] = [longitude,latitude]"
   ]
  },
  {
   "cell_type": "code",
   "execution_count": 286,
   "metadata": {},
   "outputs": [],
   "source": [
    "demand_station = []\n",
    "demand_time = dict()\n",
    "for d in demand:\n",
    "    ori = (d[1],d[2])\n",
    "    dest = (d[3],d[4])\n",
    "    d_ori = []\n",
    "    d_dest = []\n",
    "    for node in G.nodes:\n",
    "        node_id = G.node[node]['osmid']\n",
    "        node2 = (G.nodes[node]['x'],G.nodes[node]['y'])\n",
    "        ori_distance = geopy.distance.vincenty(ori, node2).km\n",
    "        dest_distance = geopy.distance.vincenty(dest, node2).km\n",
    "        d_ori.append((ori_distance,node_id))\n",
    "        d_dest.append((dest_distance,node_id))\n",
    "    d_ori.sort()\n",
    "    d_dest.sort()\n",
    "    if d_ori[0][0] >= 0.3 or d_dest[0][0] >= 0.3:\n",
    "        continue\n",
    "    ori_station = d_ori[0][1]\n",
    "    dest_station = d_dest[0][1]\n",
    "    demand_station.append([ori_station,dest_station])\n",
    "    demand_time[(ori_station,dest_station)] = d[0]"
   ]
  },
  {
   "cell_type": "code",
   "execution_count": 287,
   "metadata": {},
   "outputs": [
    {
     "data": {
      "text/plain": [
       "182"
      ]
     },
     "execution_count": 287,
     "metadata": {},
     "output_type": "execute_result"
    }
   ],
   "source": [
    "len(demand_station)"
   ]
  },
  {
   "cell_type": "code",
   "execution_count": null,
   "metadata": {
    "collapsed": true
   },
   "outputs": [],
   "source": [
    "import matplotlib.pyplot as plt\n",
    "%matplotlib inline  \n",
    "import utm\n",
    "def visualize_demand(demand,G,dic):\n",
    "    pos = {}\n",
    "    for node in G.nodes():\n",
    "        longitude = G.nodes[node]['x']\n",
    "        latitude = G.nodes[node]['y']\n",
    "        x, y, a, b = utm.from_latlon(longitude,latitude)\n",
    "        pos[node] = (x, y)\n",
    "    fig = plt.figure(figsize=(20, 10))\n",
    "    nx.draw_networkx(G, pos, fig_height=10, fig_width=20, node_size=0, with_labels=False, linewidths=0.1, alpha=0.1)\n",
    "    for d in demand:\n",
    "        ori = d[0]\n",
    "        dest = d[1]\n",
    "        x1, y1, a1, b1 = utm.from_latlon(dic[ori][0],dic[ori][1])\n",
    "        x2, y2, a2, b2 = utm.from_latlon(dic[dest][0],dic[dest][1])\n",
    "        plt.scatter(x1, y1, s=30 , c='r',marker = 'o')\n",
    "        plt.scatter(x2, y2, s=30 , c='g',marker = 'o')\n",
    "        plt.plot([x1,x2], [y1,y2], 'bo--', alpha=0.7, linewidth=1,markersize = 1)"
   ]
  },
  {
   "cell_type": "code",
   "execution_count": null,
   "metadata": {
    "collapsed": true
   },
   "outputs": [],
   "source": [
    "## For visuliazation - DO NOT RUN\n",
    "visualize_demand(demand_station,G,station_id)"
   ]
  },
  {
   "cell_type": "markdown",
   "metadata": {},
   "source": [
    "# Find meeting points"
   ]
  },
  {
   "cell_type": "code",
   "execution_count": 38,
   "metadata": {},
   "outputs": [],
   "source": [
    "max_walking_distance = 300 #m\n",
    "max_delay = 300 #s\n",
    "max_waiting = 300 #s"
   ]
  },
  {
   "cell_type": "markdown",
   "metadata": {},
   "source": [
    "Waking function $F = 150 \\cdot \\gamma$, $\\gamma \\in [0,2]$."
   ]
  },
  {
   "cell_type": "code",
   "execution_count": 288,
   "metadata": {},
   "outputs": [],
   "source": [
    "# Find meeting point with corresponding incentive pricing for each demand\n",
    "pick_meeting = {}\n",
    "drop_meeting = {}\n",
    "demand_dic = {}\n",
    "for i,demand in enumerate(demand_station):\n",
    "    demand_dic[i] = demand\n",
    "    demand_pick_location = demand[0]\n",
    "    demand_drop_location = demand[1]\n",
    "    pick_meeting[i] = []\n",
    "    drop_meeting[i] = []\n",
    "    for node in G.nodes:\n",
    "        node_id = G.node[node]['osmid']\n",
    "        ori_distance = dic[demand_pick_location][node_id]\n",
    "        dest_distance = dic[demand_drop_location][node_id]\n",
    "        if ori_distance <= max_walking_distance:\n",
    "            incentive = ori_distance/150\n",
    "            pick_meeting[i].append([node_id,incentive])\n",
    "        if dest_distance <= max_walking_distance:\n",
    "            incentive = dest_distance/150\n",
    "            drop_meeting[i].append([node_id,incentive])"
   ]
  },
  {
   "cell_type": "code",
   "execution_count": 232,
   "metadata": {},
   "outputs": [],
   "source": [
    "## For Comparision - DO NOT RUN\n",
    "pick_meeting = {}\n",
    "drop_meeting = {}\n",
    "demand_dic = {}\n",
    "for i,demand in enumerate(demand_station):\n",
    "    demand_dic[i] = demand\n",
    "    demand_pick_location = demand[0]\n",
    "    demand_drop_location = demand[1]\n",
    "    pick_meeting[i] = []\n",
    "    drop_meeting[i] = []\n",
    "    for node in G.nodes:\n",
    "        node_id = G.node[node]['osmid']\n",
    "        ori_distance = dic[demand_pick_location][node_id]\n",
    "        dest_distance = dic[demand_drop_location][node_id]\n",
    "        if ori_distance <= max_walking_distance:\n",
    "            incentive = ori_distance/150\n",
    "            if incentive != 0:\n",
    "                continue\n",
    "            pick_meeting[i].append([node_id,incentive])\n",
    "        if dest_distance <= max_walking_distance:\n",
    "            incentive = dest_distance/150\n",
    "            if incentive != 0:\n",
    "                continue\n",
    "            drop_meeting[i].append([node_id,incentive])"
   ]
  },
  {
   "cell_type": "code",
   "execution_count": 25,
   "metadata": {},
   "outputs": [],
   "source": [
    "def time_dif(demand_time, demand1, demand2):\n",
    "    '''\n",
    "    return time(demand2) - time(demand1) in seconds\n",
    "    '''\n",
    "    time1 = demand_time[(demand1[0], demand1[1])]\n",
    "    time2 = demand_time[(demand2[0], demand2[1])]\n",
    "    datetime_object1 = datetime.strptime(time1[-8:],'%H:%M:%S')\n",
    "    datetime_object2 = datetime.strptime(time2[-8:],'%H:%M:%S')\n",
    "    return (datetime_object2 - datetime_object1).total_seconds()"
   ]
  },
  {
   "cell_type": "code",
   "execution_count": 173,
   "metadata": {},
   "outputs": [],
   "source": [
    "def check_feasibility(demand_a,demand_b,max_delay,max_waiting,dic,demand_time,\n",
    "                      pk_stop=60, dp_stop=60):\n",
    "    \"\"\"\n",
    "    Output: T/F, total savings, total incentives, which case\n",
    "    \"\"\"\n",
    "    vw = 5*1000/3600 #walking speed in m/s\n",
    "    vd = 20*1000/3600 #driving speed in m/s\n",
    "    # dictionary: [pk/dp point: [incentive_a, incentive_b]]\n",
    "    comm_pk = dict()\n",
    "    comm_dp = dict()\n",
    "    # because i used wrong variable name so it's grandfathered in and they are both ok...\n",
    "    pk_time = pk_stop\n",
    "    dp_time = dp_stop\n",
    "    for i in pick_meeting[demand_a]:\n",
    "        for j in pick_meeting[demand_b]:\n",
    "            if i[0] == j[0]:\n",
    "                comm_pk[i[0]] = [i[1], j[1]]\n",
    "    for i in drop_meeting[demand_a]:\n",
    "        for j in drop_meeting[demand_b]:\n",
    "            if i[0] == j[0]:\n",
    "                comm_dp[i[0]] = [i[1], j[1]]\n",
    "    num_pk = len(comm_pk)\n",
    "    num_dp = len(comm_dp)\n",
    "    station_a = demand_station[demand_a]\n",
    "    station_b = demand_station[demand_b]\n",
    "    # vehicle time - does not include stop time\n",
    "    time_a_vh = dic[station_a[0]][station_a[1]]/vd\n",
    "    time_b_vh = dic[station_b[0]][station_b[1]]/vd\n",
    "    # a passenger only experiences delay in pick_up but not drop_off. The system will however experience both.\n",
    "    time_a_ns = time_a_vh + pk_stop #time if not sharing\n",
    "    time_b_ns = time_b_vh + pk_stop\n",
    "    time_diff = abs(time_dif(demand_time, station_a, station_b)) #difference in request time in seconds\n",
    "    if num_pk != 0 and num_dp != 0:\n",
    "        # time wasted in stopping: for passenger only pick_up time is wasted\n",
    "        ij_walking = dict() # total walking time if they choose pickup i and dropoff j\n",
    "        for i in comm_pk:\n",
    "            waiting = time_diff + abs(dic[station_b[0]][i]/vw - dic[station_a[0]][i]/vw)\n",
    "            for j in comm_dp:\n",
    "                time_ij = dic[i][j]/vd\n",
    "                delay = np.zeros(2)\n",
    "                delay[0] = dic[station_a[0]][i]/vw + time_ij + dic[j][station_a[1]]/vw + pk_stop - time_a_ns\n",
    "                delay[1] = dic[station_b[0]][i]/vw + time_ij + dic[j][station_b[1]]/vw + pk_stop - time_b_ns\n",
    "                if max(delay) <= max_delay and waiting <= max_waiting:\n",
    "                    ij_walking[(i, j)] = (dic[station_a[0]][i] + dic[j][station_a[1]] + dic[station_b[0]][i]\n",
    "                                          + dic[j][station_b[1]])/vw\n",
    "        if len(ij_walking) != 0:\n",
    "            # find the best pickup and dropoff meeting points\n",
    "            pk = 0\n",
    "            dp = 0\n",
    "            t_w = 9999\n",
    "            for pair in ij_walking:\n",
    "                if ij_walking[pair] < t_w:\n",
    "                    t_w = ij_walking[pair]\n",
    "                    pk = pair[0]\n",
    "                    dp = pair[1]\n",
    "            savings = time_a_vh + time_b_vh - dic[pk][dp]/vd + pk_stop + dp_stop # saved a pick_up and a drop_off\n",
    "            # find incentives\n",
    "            incentives = comm_pk[pk][0] + comm_pk[pk][1] + comm_dp[dp][0] + comm_dp[dp][1]\n",
    "            return True, savings, incentives, 0\n",
    "    if num_pk != 0:\n",
    "        #i_walking will have two elements: total time walking and drop off a first(0) or b first(1)\n",
    "        i_walking = dict()\n",
    "        for i in comm_pk:\n",
    "            walk_a = dic[station_a[0]][i]/vw\n",
    "            walk_b = dic[station_b[0]][i]/vw\n",
    "            if time_diff + abs(walk_b - walk_a) <= max_waiting:\n",
    "                delay_1 = np.zeros(2)\n",
    "                delay_2 = np.zeros(2)\n",
    "                # 1st case: go to a's destination first\n",
    "                delay_1[0] = walk_a + dic[i][station_a[1]]/vd + pk_stop - time_a_ns\n",
    "                delay_1[1] = walk_b + (dic[i][station_a[1]] + \n",
    "                                       dic[station_a[1]][station_b[1]])/vd + pk_stop + dp_stop - time_b_ns\n",
    "                # 2nd case: go to b's destination first\n",
    "                delay_2[0] = walk_a + (dic[i][station_b[1]] + \n",
    "                                       dic[station_b[1]][station_a[1]])/vd + pk_stop + dp_stop - time_a_ns\n",
    "                delay_2[1] = walk_b + dic[i][station_b[1]]/vd + pk_stop - time_b_ns\n",
    "                # if either case is fine, choose the case with minimum walking\n",
    "                if max(delay_1) <= max_delay and max(delay_2) <= max_delay:\n",
    "                    if walk_a <= walk_b:\n",
    "                        i_walking[i] = [walk_a + walk_b, 0]\n",
    "                    else:\n",
    "                        i_walking[i] = [walk_a + walk_b, 1]\n",
    "                elif max(delay_1) <= max_delay:\n",
    "                    i_walking[i] = [walk_a + walk_b, 0]\n",
    "                elif max(delay_2) <= max_delay:\n",
    "                    i_walking[i] = [walk_a + walk_b, 1]\n",
    "        if len(i_walking) != 0:\n",
    "            pk = 0\n",
    "            t_w = 9999\n",
    "            for i in i_walking:\n",
    "                if i_walking[i][0] < t_w:\n",
    "                    t_w = i_walking[i][0]\n",
    "                    pk = i\n",
    "            if i_walking[pk][1] == 0: # if dropoff a first\n",
    "                savings = (time_a_ns + time_b_ns - (dic[pk][station_a[1]] \n",
    "                                                    + dic[station_a[1]][station_b[1]])/vd - pk_stop)\n",
    "                # only saved a pick up stop time\n",
    "            else:\n",
    "                savings = time_a_vh + time_b_vh - (dic[pk][station_b[1]] + \n",
    "                                                   dic[station_b[1]][station_a[1]])/vd + pk_stop\n",
    "            incentives = comm_pk[pk][0] + comm_pk[pk][1]\n",
    "            return True, savings, incentives, 1\n",
    "    if num_dp != 0: # last case: common dropoff point\n",
    "        #j_walking will have two elements: total time walking and pick up a first(0) or b first(1)\n",
    "        j_walking = dict()\n",
    "        for j in comm_dp:\n",
    "            walk_a = dic[j][station_a[1]]/vw\n",
    "            walk_b = dic[j][station_b[1]]/vw\n",
    "            delay_1 = np.zeros(2)\n",
    "            delay_2 = np.zeros(2)\n",
    "            # 1st case: pick up a first\n",
    "            delay_1[0] = (dic[station_a[0]][station_b[0]] + \n",
    "                          dic[station_b[0]][j])/vd + walk_a + 2*pk_stop - time_a_ns\n",
    "            delay_1[1] = dic[station_b[0]][j]/vd + walk_b + pk_stop - time_b_ns\n",
    "            if time_diff + pk_stop + dic[station_a[0]][station_b[0]]/vd > max_waiting:\n",
    "                # if watiting exceeds max_waiting, disqualify this match by making delay = 9999\n",
    "                delay_1[1] = 9999\n",
    "            # 2nd case: pick up b first\n",
    "            delay_2[0] = dic[station_a[0]][j]/vd + walk_a + pk_stop - time_a_ns\n",
    "            delay_2[1] = (dic[station_b[0]][station_a[0]] + \n",
    "                          dic[station_a[0]][j])/vd + walk_b + 2*pk_stop - time_b_ns\n",
    "            if time_diff + dic[station_b[0]][station_a[0]]/vd > max_waiting:\n",
    "                delay_2[0] = 9999\n",
    "            # if either case is fine, choose the case with minimum walking\n",
    "            if max(delay_1) <= max_delay and max(delay_2) <= max_delay:\n",
    "                if walk_a <= walk_b:\n",
    "                    j_walking[j] = [walk_a + walk_b, 0]\n",
    "                else:\n",
    "                    j_walking[j] = [walk_a + walk_b, 1]\n",
    "            elif max(delay_1) <= max_delay:\n",
    "                j_walking[j] = [walk_a + walk_b, 0]\n",
    "            elif max(delay_2) <= max_delay:\n",
    "                j_walking[j] = [walk_a + walk_b, 1]\n",
    "        if len(j_walking) != 0:\n",
    "            dp = 0\n",
    "            t_w = 9999\n",
    "            for j in j_walking:\n",
    "                if j_walking[j][0] < t_w:\n",
    "                    t_w = j_walking[j][0]\n",
    "                    dp = j\n",
    "            # only saved a drop_off time\n",
    "            if j_walking[dp][1] == 0:\n",
    "                savings = time_a_vh + time_b_vh - (dic[station_a[0]][station_b[0]] + \n",
    "                                                   dic[station_b[0]][j])/vd + dp_stop\n",
    "            else:\n",
    "                savings = time_a_vh + time_b_vh - (dic[station_b[0]][station_a[0]] + \n",
    "                                                   dic[station_a[0]][j])/vd + dp_stop\n",
    "            incentives = comm_dp[dp][0] + comm_dp[dp][1]\n",
    "            return True, savings, incentives, 2\n",
    "    #consider no-meeting-point share if non of the meeting point cases work\n",
    "    delays = np.zeros(4)\n",
    "    savings = dict()\n",
    "    # 1-2-1-2. b experiences a drop_off delay when a got off\n",
    "    delay_1 = np.zeros(2)\n",
    "    delay_1[0] = 2*pk_time + (dic[station_a[0]][station_b[0]] + \n",
    "                              dic[station_b[0]][station_a[1]])/vd - time_a_ns\n",
    "    delay_1[1] = pk_time + (dic[station_b[0]][station_a[1]] + \n",
    "                            dic[station_a[1]][station_b[1]])/vd + dp_time - time_b_ns\n",
    "    waiting = time_diff + pk_stop + dic[station_a[0]][station_b[0]]/vd\n",
    "    delays[0] = max(delay_1)\n",
    "    if waiting > max_waiting:\n",
    "        delays[0] = 9999\n",
    "    savings[delays[0]] = time_a_vh + time_b_vh - (dic[station_a[0]][station_b[0]] + \n",
    "                                                  dic[station_b[0]][station_a[1]] + \n",
    "                                                  dic[station_a[1]][station_b[1]])/vd\n",
    "    # 1-2-2-1\n",
    "    delay_2 = np.zeros(2)\n",
    "    delay_2[0] = 2*pk_time + (dic[station_a[0]][station_b[0]] + dic[station_b[0]][station_b[1]] + \n",
    "                              dic[station_b[1]][station_a[1]])/vd + dp_time - time_a_ns\n",
    "    \n",
    "    delay_2[1] = pk_time + dic[station_b[0]][station_b[1]]/vd - time_b_ns\n",
    "    waiting = time_diff + pk_stop + dic[station_a[0]][station_b[0]]/vd\n",
    "    delays[1] = max(delay_2)\n",
    "    if waiting > max_waiting:\n",
    "        delays[1] = 9999\n",
    "    savings[delays[1]] = time_a_vh + time_b_vh - (dic[station_a[0]][station_b[0]] + \n",
    "                                                  dic[station_b[0]][station_b[1]] + \n",
    "                                                  dic[station_b[1]][station_a[1]])/vd\n",
    "     # 2-1-2-1\n",
    "    delay_3 = np.zeros(2)\n",
    "    delay_3[0] = pk_time + (dic[station_a[0]][station_b[1]] + \n",
    "                            dic[station_b[1]][station_a[1]])/vd + dp_time - time_a_ns\n",
    "    delay_3[1] = 2*pk_time + (dic[station_b[0]][station_a[0]] + \n",
    "                              dic[station_a[0]][station_b[1]])/vd - time_b_ns\n",
    "    waiting = time_diff + pk_stop + dic[station_b[0]][station_a[0]]/vd\n",
    "    delays[2] = max(delay_3)\n",
    "    if waiting > max_waiting:\n",
    "        delays[2] = 9999\n",
    "    savings[delays[2]] = time_a_vh + time_b_vh - (dic[station_b[0]][station_a[0]] + \n",
    "                                                  dic[station_a[0]][station_b[1]] + \n",
    "                                                  dic[station_b[1]][station_a[1]])/vd\n",
    "    # 2-1-1-2\n",
    "    delay_4 = np.zeros(2)\n",
    "    delay_4[0] = pk_time + dic[station_a[0]][station_b[0]]/vd - time_a_ns\n",
    "    delay_4[1] = 2*pk_time + (dic[station_b[0]][station_a[0]] + dic[station_a[0]][station_a[1]] + \n",
    "                              dic[station_a[1]][station_b[1]])/vd + dp_time - time_b_ns\n",
    "    waiting = time_diff + pk_stop + dic[station_b[0]][station_a[0]]/vd\n",
    "    delays[3] = max(delay_4)\n",
    "    if waiting > max_waiting:\n",
    "        delays[3] = 9999\n",
    "    savings[delays[3]] = time_a_vh + time_b_vh - (dic[station_b[0]][station_a[0]] + \n",
    "                                                  dic[station_a[0]][station_a[1]] + \n",
    "                                                  dic[station_a[1]][station_b[1]])/vd\n",
    "    if (min(delays)) <= max_delay:\n",
    "        return True, savings[min(delays)], 0, 3\n",
    "\n",
    "    # if none of the cases work, return infeasible\n",
    "    return False, 0, 0, 999"
   ]
  },
  {
   "cell_type": "code",
   "execution_count": 340,
   "metadata": {},
   "outputs": [],
   "source": [
    "def two_matching(demand,demand_time):\n",
    "    RV_graph = nx.Graph()\n",
    "    β = 0.1\n",
    "    for i in range(0, len(demand)):\n",
    "        for j in range(i+1, len(demand)):\n",
    "            share, savings, incentives, case = check_feasibility(i, j, 600, 600, dic, demand_time, \n",
    "                                                                 pk_stop=60, dp_stop=60)\n",
    "            if share:\n",
    "                weight = β*savings - (1-β)*incentives\n",
    "                RV_graph.add_edge(i, j, x=weight, saving = savings, incentive = incentives, case = case)\n",
    "    return nx.max_weight_matching(RV_graph,weight='x'), RV_graph"
   ]
  },
  {
   "cell_type": "code",
   "execution_count": 341,
   "metadata": {},
   "outputs": [],
   "source": [
    "pairs, RV_Graph = two_matching(demand_station, demand_time)"
   ]
  },
  {
   "cell_type": "code",
   "execution_count": 342,
   "metadata": {},
   "outputs": [
    {
     "data": {
      "text/plain": [
       "82"
      ]
     },
     "execution_count": 342,
     "metadata": {},
     "output_type": "execute_result"
    }
   ],
   "source": [
    "len(pairs)"
   ]
  },
  {
   "cell_type": "code",
   "execution_count": 162,
   "metadata": {},
   "outputs": [],
   "source": [
    "def data_process(RV_Graph, pairs):\n",
    "    total_incentives = 0\n",
    "    total_savings = 0\n",
    "    cases = np.zeros(4)\n",
    "    for pair in pairs:\n",
    "        total_incentives += RV_Graph[pair[0]][pair[1]]['incentive']\n",
    "        total_savings += RV_Graph[pair[0]][pair[1]]['saving']\n",
    "        cases[RV_Graph[pair[0]][pair[1]]['case']] += 1\n",
    "    return total_incentives, total_savings, cases"
   ]
  },
  {
   "cell_type": "code",
   "execution_count": 343,
   "metadata": {
    "scrolled": true
   },
   "outputs": [],
   "source": [
    "t_i, t_s, cases = data_process(RV_Graph, pairs)"
   ]
  },
  {
   "cell_type": "code",
   "execution_count": 346,
   "metadata": {},
   "outputs": [
    {
     "data": {
      "text/plain": [
       "array([  6.,  26.,  19.,  31.])"
      ]
     },
     "execution_count": 346,
     "metadata": {},
     "output_type": "execute_result"
    }
   ],
   "source": [
    "cases"
   ]
  },
  {
   "cell_type": "code",
   "execution_count": 344,
   "metadata": {},
   "outputs": [
    {
     "data": {
      "text/plain": [
       "1.405817028189179"
      ]
     },
     "execution_count": 344,
     "metadata": {},
     "output_type": "execute_result"
    }
   ],
   "source": [
    "t_i/len(pairs)"
   ]
  },
  {
   "cell_type": "code",
   "execution_count": 345,
   "metadata": {},
   "outputs": [
    {
     "data": {
      "text/plain": [
       "27064.22055178562"
      ]
     },
     "execution_count": 345,
     "metadata": {},
     "output_type": "execute_result"
    }
   ],
   "source": [
    "t_s"
   ]
  }
 ],
 "metadata": {
  "kernelspec": {
   "display_name": "Python 3",
   "language": "python",
   "name": "python3"
  },
  "language_info": {
   "codemirror_mode": {
    "name": "ipython",
    "version": 3
   },
   "file_extension": ".py",
   "mimetype": "text/x-python",
   "name": "python",
   "nbconvert_exporter": "python",
   "pygments_lexer": "ipython3",
   "version": "3.6.4"
  }
 },
 "nbformat": 4,
 "nbformat_minor": 2
}
